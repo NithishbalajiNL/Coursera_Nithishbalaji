{
 "cells": [
  {
   "cell_type": "markdown",
   "id": "20b38472",
   "metadata": {},
   "source": [
    "# Data Science Tools and Ecosystem"
   ]
  },
  {
   "cell_type": "markdown",
   "id": "5a95bbdd",
   "metadata": {},
   "source": [
    "In this notebook, Data Science Tools and Ecosystem are summarized.\n"
   ]
  },
  {
   "cell_type": "markdown",
   "id": "9f8a6e3b",
   "metadata": {},
   "source": [
    "**Objectives:**\n",
    "\n",
    "- List popular languages for Data Science\n",
    "- Identify common tools used in Data Science\n",
    "- Evaluate arithmetic expressions in Python\n",
    "- Understand the importance of data visualization\n",
    "- Explore basic data manipulation techniques"
   ]
  },
  {
   "cell_type": "markdown",
   "id": "03cc65b3",
   "metadata": {},
   "source": [
    "Some of the popular languages that Data Scientists use are: \n",
    "1) Python\n",
    "2) R\n",
    "3) Julia\n",
    "4) Scala\n",
    "5) Java"
   ]
  },
  {
   "cell_type": "markdown",
   "id": "31033160",
   "metadata": {},
   "source": [
    "Some of the commonly used libraries used by Data Scientists include:\n",
    "1) NumPy\n",
    "2) Pandas\n",
    "3) Matplotlib\n",
    "4) Seaborn\n",
    "5) Scikit-learn"
   ]
  },
  {
   "cell_type": "markdown",
   "id": "a4776722",
   "metadata": {},
   "source": [
    "| Data Science Tools   |\n",
    "|----------------------|\n",
    "| Jupyter Notebook      |\n",
    "| Apache Spark          |\n",
    "| RStudio               |\n"
   ]
  },
  {
   "cell_type": "markdown",
   "id": "fd888f97",
   "metadata": {},
   "source": [
    "## Below are a few examples of evaluating arithmetic expressions in Python."
   ]
  },
  {
   "cell_type": "code",
   "execution_count": 1,
   "id": "9d1eb70f",
   "metadata": {},
   "outputs": [
    {
     "data": {
      "text/plain": [
       "17"
      ]
     },
     "execution_count": 1,
     "metadata": {},
     "output_type": "execute_result"
    }
   ],
   "source": [
    "#This a simple arithmetic expression to mutiply then add integers\n",
    "(3*4)+5"
   ]
  },
  {
   "cell_type": "code",
   "execution_count": 3,
   "id": "7dfb6d5e",
   "metadata": {},
   "outputs": [
    {
     "data": {
      "text/plain": [
       "3.3333333333333335"
      ]
     },
     "execution_count": 3,
     "metadata": {},
     "output_type": "execute_result"
    }
   ],
   "source": [
    "# This will convert 200 minutes to hours by diving by 60\n",
    "minute=200\n",
    "hour= minute/60\n",
    "hour"
   ]
  },
  {
   "cell_type": "markdown",
   "id": "599fed36",
   "metadata": {},
   "source": [
    "## Author\n",
    "Nithishbalaji Loganathan"
   ]
  },
  {
   "cell_type": "code",
   "execution_count": null,
   "id": "4d6bf5d4",
   "metadata": {},
   "outputs": [],
   "source": []
  }
 ],
 "metadata": {
  "kernelspec": {
   "display_name": "Python (python-3.11)",
   "language": "python",
   "name": "conda-env-python-3.11-py"
  },
  "language_info": {
   "codemirror_mode": {
    "name": "ipython",
    "version": 3
   },
   "file_extension": ".py",
   "mimetype": "text/x-python",
   "name": "python",
   "nbconvert_exporter": "python",
   "pygments_lexer": "ipython3",
   "version": "3.11.10"
  }
 },
 "nbformat": 4,
 "nbformat_minor": 5
}
